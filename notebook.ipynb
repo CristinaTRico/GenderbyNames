{
 "cells": [
  {
   "cell_type": "code",
   "execution_count": 3,
   "metadata": {},
   "outputs": [
    {
     "data": {
      "text/plain": [
       "True"
      ]
     },
     "execution_count": 3,
     "metadata": {},
     "output_type": "execute_result"
    }
   ],
   "source": [
    "# Importing the fuzzy package\n",
    "import fuzzy\n",
    "\n",
    "# Exploring the output of fuzzy.nysiis\n",
    "fuzzy.nysiis('tommorow')\n",
    "\n",
    "# Testing equivalence of similar sounding words\n",
    "fuzzy.nysiis('tommorow') == fuzzy.nysiis('tomorrow')"
   ]
  },
  {
   "cell_type": "code",
   "execution_count": 4,
   "metadata": {},
   "outputs": [
    {
     "data": {
      "text/html": [
       "<div>\n",
       "<style scoped>\n",
       "    .dataframe tbody tr th:only-of-type {\n",
       "        vertical-align: middle;\n",
       "    }\n",
       "\n",
       "    .dataframe tbody tr th {\n",
       "        vertical-align: top;\n",
       "    }\n",
       "\n",
       "    .dataframe thead th {\n",
       "        text-align: right;\n",
       "    }\n",
       "</style>\n",
       "<table border=\"1\" class=\"dataframe\">\n",
       "  <thead>\n",
       "    <tr style=\"text-align: right;\">\n",
       "      <th></th>\n",
       "      <th>Year</th>\n",
       "      <th>Book Title</th>\n",
       "      <th>Author</th>\n",
       "      <th>Besteller this year</th>\n",
       "      <th>first_name</th>\n",
       "    </tr>\n",
       "  </thead>\n",
       "  <tbody>\n",
       "    <tr>\n",
       "      <th>0</th>\n",
       "      <td>2017</td>\n",
       "      <td>DRAGONS LOVE TACOS</td>\n",
       "      <td>Adam Rubin</td>\n",
       "      <td>49</td>\n",
       "      <td>Adam</td>\n",
       "    </tr>\n",
       "    <tr>\n",
       "      <th>1</th>\n",
       "      <td>2017</td>\n",
       "      <td>THE WONDERFUL THINGS YOU WILL BE</td>\n",
       "      <td>Emily Winfield Martin</td>\n",
       "      <td>48</td>\n",
       "      <td>Emily</td>\n",
       "    </tr>\n",
       "    <tr>\n",
       "      <th>2</th>\n",
       "      <td>2017</td>\n",
       "      <td>THE DAY THE CRAYONS QUIT</td>\n",
       "      <td>Drew Daywalt</td>\n",
       "      <td>44</td>\n",
       "      <td>Drew</td>\n",
       "    </tr>\n",
       "    <tr>\n",
       "      <th>3</th>\n",
       "      <td>2017</td>\n",
       "      <td>ROSIE REVERE, ENGINEER</td>\n",
       "      <td>Andrea Beaty</td>\n",
       "      <td>38</td>\n",
       "      <td>Andrea</td>\n",
       "    </tr>\n",
       "    <tr>\n",
       "      <th>4</th>\n",
       "      <td>2017</td>\n",
       "      <td>ADA TWIST, SCIENTIST</td>\n",
       "      <td>Andrea Beaty</td>\n",
       "      <td>28</td>\n",
       "      <td>Andrea</td>\n",
       "    </tr>\n",
       "  </tbody>\n",
       "</table>\n",
       "</div>"
      ],
      "text/plain": [
       "   Year                        Book Title                 Author  \\\n",
       "0  2017                DRAGONS LOVE TACOS             Adam Rubin   \n",
       "1  2017  THE WONDERFUL THINGS YOU WILL BE  Emily Winfield Martin   \n",
       "2  2017          THE DAY THE CRAYONS QUIT           Drew Daywalt   \n",
       "3  2017            ROSIE REVERE, ENGINEER           Andrea Beaty   \n",
       "4  2017              ADA TWIST, SCIENTIST           Andrea Beaty   \n",
       "\n",
       "   Besteller this year first_name  \n",
       "0                   49       Adam  \n",
       "1                   48      Emily  \n",
       "2                   44       Drew  \n",
       "3                   38     Andrea  \n",
       "4                   28     Andrea  "
      ]
     },
     "execution_count": 4,
     "metadata": {},
     "output_type": "execute_result"
    }
   ],
   "source": [
    "# Importing the pandas module\n",
    "import pandas as pd\n",
    "\n",
    "# Reading in datasets/nytkids_yearly.csv, which is semicolon delimited.\n",
    "author_df = pd.read_csv('datasets/nytkids_yearly.csv', delimiter=\";\")\n",
    "\n",
    "# Looping through author_df['Author'] to extract the authors first names\n",
    "first_name = []\n",
    "for name in author_df['Author']:\n",
    "    first_name.append(name.split()[0])\n",
    "\n",
    "# Adding first_name as a column to author_df\n",
    "author_df['first_name'] = first_name\n",
    "\n",
    "# Checking out the first few rows of author_df\n",
    "author_df.head()"
   ]
  },
  {
   "cell_type": "code",
   "execution_count": 5,
   "metadata": {},
   "outputs": [
    {
     "name": "stdout",
     "output_type": "stream",
     "text": [
      "there are 25 more first names than pronounciations\n"
     ]
    }
   ],
   "source": [
    "# Importing numpy\n",
    "import numpy as np\n",
    "\n",
    "# Looping through author's first names to create the nysiis (fuzzy) equivalent\n",
    "nysiis_name = []\n",
    "# ...YOUR CODE FOR TASK 3...\n",
    "for name in author_df['first_name']:\n",
    "    nysiis_name.append(fuzzy.nysiis(name))\n",
    "\n",
    "# Adding nysiis_name as a column to author_df\n",
    "author_df['nysiis_name']= nysiis_name\n",
    "\n",
    "# Printing out the difference between unique firstnames and unique nysiis_names:\n",
    "print('there are ' +\n",
    "      str(len(author_df['first_name'].unique())- len(author_df['nysiis_name'].unique() )) +\n",
    "      ' more first names than pronounciations')"
   ]
  },
  {
   "cell_type": "code",
   "execution_count": null,
   "metadata": {},
   "outputs": [],
   "source": []
  }
 ],
 "metadata": {
  "kernelspec": {
   "display_name": "Python 3",
   "language": "python",
   "name": "python3"
  },
  "language_info": {
   "codemirror_mode": {
    "name": "ipython",
    "version": 3
   },
   "file_extension": ".py",
   "mimetype": "text/x-python",
   "name": "python",
   "nbconvert_exporter": "python",
   "pygments_lexer": "ipython3",
   "version": "3.7.3"
  }
 },
 "nbformat": 4,
 "nbformat_minor": 4
}
