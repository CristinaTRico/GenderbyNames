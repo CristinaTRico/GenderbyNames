{
 "cells": [
  {
   "cell_type": "markdown",
   "metadata": {},
   "source": [
    "The focus of todays project will be to using the fuzzy package to determine if two strings sound the same pheonetically using NYSIIS name matching.  The NYSIIS algorith  is part of the fuzzy module. It takes a string and outputss the phoentic version of the string. NYSIIS is extremely useful for catching an correctin certain typos, for example mispelled words that sound correct. A basic use of this algorigthm can be seen below. Phoentically `tommorow` and `tomorrow` math even though the former is spelled incorrectly."
   ]
  },
  {
   "cell_type": "code",
   "execution_count": 1,
   "metadata": {},
   "outputs": [
    {
     "data": {
      "text/plain": [
       "True"
      ]
     },
     "execution_count": 1,
     "metadata": {},
     "output_type": "execute_result"
    }
   ],
   "source": [
    "# Importing the fuzzy package\n",
    "import fuzzy\n",
    "\n",
    "# Exploring the output of fuzzy.nysiis\n",
    "fuzzy.nysiis('tommorow')\n",
    "\n",
    "# Testing equivalence of similar sounding words\n",
    "fuzzy.nysiis('tommorow') == fuzzy.nysiis('tomorrow')"
   ]
  },
  {
   "cell_type": "markdown",
   "metadata": {},
   "source": [
    "Te NY Time puts out a weekly list of bes selling books from a variety of genres. THe focus todau woll be childrens' picture books. We will analyze the gener distribution of authors and look for changes over time. To begin we will import the data and iterate through the dataframe to grab to creat a new column containing just the authors first name.|"
   ]
  },
  {
   "cell_type": "code",
   "execution_count": 3,
   "metadata": {},
   "outputs": [
    {
     "data": {
      "text/html": [
       "<div>\n",
       "<style scoped>\n",
       "    .dataframe tbody tr th:only-of-type {\n",
       "        vertical-align: middle;\n",
       "    }\n",
       "\n",
       "    .dataframe tbody tr th {\n",
       "        vertical-align: top;\n",
       "    }\n",
       "\n",
       "    .dataframe thead th {\n",
       "        text-align: right;\n",
       "    }\n",
       "</style>\n",
       "<table border=\"1\" class=\"dataframe\">\n",
       "  <thead>\n",
       "    <tr style=\"text-align: right;\">\n",
       "      <th></th>\n",
       "      <th>Year</th>\n",
       "      <th>Book Title</th>\n",
       "      <th>Author</th>\n",
       "      <th>Besteller this year</th>\n",
       "      <th>first_name</th>\n",
       "    </tr>\n",
       "  </thead>\n",
       "  <tbody>\n",
       "    <tr>\n",
       "      <th>0</th>\n",
       "      <td>2017</td>\n",
       "      <td>DRAGONS LOVE TACOS</td>\n",
       "      <td>Adam Rubin</td>\n",
       "      <td>49</td>\n",
       "      <td>Adam</td>\n",
       "    </tr>\n",
       "    <tr>\n",
       "      <th>1</th>\n",
       "      <td>2017</td>\n",
       "      <td>THE WONDERFUL THINGS YOU WILL BE</td>\n",
       "      <td>Emily Winfield Martin</td>\n",
       "      <td>48</td>\n",
       "      <td>Emily</td>\n",
       "    </tr>\n",
       "    <tr>\n",
       "      <th>2</th>\n",
       "      <td>2017</td>\n",
       "      <td>THE DAY THE CRAYONS QUIT</td>\n",
       "      <td>Drew Daywalt</td>\n",
       "      <td>44</td>\n",
       "      <td>Drew</td>\n",
       "    </tr>\n",
       "    <tr>\n",
       "      <th>3</th>\n",
       "      <td>2017</td>\n",
       "      <td>ROSIE REVERE, ENGINEER</td>\n",
       "      <td>Andrea Beaty</td>\n",
       "      <td>38</td>\n",
       "      <td>Andrea</td>\n",
       "    </tr>\n",
       "    <tr>\n",
       "      <th>4</th>\n",
       "      <td>2017</td>\n",
       "      <td>ADA TWIST, SCIENTIST</td>\n",
       "      <td>Andrea Beaty</td>\n",
       "      <td>28</td>\n",
       "      <td>Andrea</td>\n",
       "    </tr>\n",
       "  </tbody>\n",
       "</table>\n",
       "</div>"
      ],
      "text/plain": [
       "   Year                        Book Title                 Author  \\\n",
       "0  2017                DRAGONS LOVE TACOS             Adam Rubin   \n",
       "1  2017  THE WONDERFUL THINGS YOU WILL BE  Emily Winfield Martin   \n",
       "2  2017          THE DAY THE CRAYONS QUIT           Drew Daywalt   \n",
       "3  2017            ROSIE REVERE, ENGINEER           Andrea Beaty   \n",
       "4  2017              ADA TWIST, SCIENTIST           Andrea Beaty   \n",
       "\n",
       "   Besteller this year first_name  \n",
       "0                   49       Adam  \n",
       "1                   48      Emily  \n",
       "2                   44       Drew  \n",
       "3                   38     Andrea  \n",
       "4                   28     Andrea  "
      ]
     },
     "execution_count": 3,
     "metadata": {},
     "output_type": "execute_result"
    }
   ],
   "source": [
    "# Importing the pandas module\n",
    "import pandas as pd\n",
    "\n",
    "# Reading in datasets/nytkids_yearly.csv, which is semicolon delimited.\n",
    "author_df = pd.read_csv('datasets/nytkids_yearly.csv', delimiter=\";\")\n",
    "\n",
    "\n",
    "# Adding first_name as a column to author_df\n",
    "\n",
    "author_df['first_name'] = author_df['Author'].str.split(' ').str[0]\n",
    "\n",
    "# Checking out the first few rows of author_df\n",
    "author_df.head()"
   ]
  },
  {
   "cell_type": "markdown",
   "metadata": {},
   "source": [
    "Now to get to the phoenics. We will create a new column that contains the phonetic equivalent of every first name extracted. After obtaining the phoentic equivalent we will compare the number of unique values in the first name column to the number of unique values in the phoentic column. "
   ]
  },
  {
   "cell_type": "code",
   "execution_count": 6,
   "metadata": {},
   "outputs": [
    {
     "name": "stdout",
     "output_type": "stream",
     "text": [
      "there are 25 more first names than pronounciations\n"
     ]
    }
   ],
   "source": [
    "# Importing numpy\n",
    "import numpy as np\n",
    "\n",
    "# Looping through author's first names to create the nysiis (fuzzy) equivalent\n",
    "nysiis_name = []\n",
    "# ...YOUR CODE FOR TASK 3...\n",
    "for name in author_df['first_name']:\n",
    "    nysiis_name.append(fuzzy.nysiis(name))\n",
    "\n",
    "# Adding nysiis_name as a column to author_df\n",
    "author_df['nysiis_name']= nysiis_name\n",
    "\n",
    "# Printing out the difference between unique firstnames and unique nysiis_names:\n",
    "print('there are ' +\n",
    "      str(len(author_df['first_name'].unique())- len(author_df['nysiis_name'].unique() )) +\n",
    "      ' more first names than pronounciations')"
   ]
  },
  {
   "cell_type": "markdown",
   "metadata": {},
   "source": [
    "Next we will use `babynames_nysiis.csv`, a dataset derived fromt he Social Secuirty Administration baby name database to identify the author genders. The dataset contains a NYSIIS versions of eahc baby name as well as the %female and %male of the name. We will use the data to creat a list of genders with the assumption that `if % female > % male` we will choose the gender to be female and vice versa. In cases where the percents are equal we will state the gender to be neutral. "
   ]
  },
  {
   "cell_type": "code",
   "execution_count": 7,
   "metadata": {},
   "outputs": [
    {
     "data": {
      "text/html": [
       "<div>\n",
       "<style scoped>\n",
       "    .dataframe tbody tr th:only-of-type {\n",
       "        vertical-align: middle;\n",
       "    }\n",
       "\n",
       "    .dataframe tbody tr th {\n",
       "        vertical-align: top;\n",
       "    }\n",
       "\n",
       "    .dataframe thead th {\n",
       "        text-align: right;\n",
       "    }\n",
       "</style>\n",
       "<table border=\"1\" class=\"dataframe\">\n",
       "  <thead>\n",
       "    <tr style=\"text-align: right;\">\n",
       "      <th></th>\n",
       "      <th>babynysiis</th>\n",
       "      <th>perc_female</th>\n",
       "      <th>perc_male</th>\n",
       "      <th>gender</th>\n",
       "    </tr>\n",
       "  </thead>\n",
       "  <tbody>\n",
       "    <tr>\n",
       "      <th>0</th>\n",
       "      <td>NaN</td>\n",
       "      <td>62.50</td>\n",
       "      <td>37.50</td>\n",
       "      <td>F</td>\n",
       "    </tr>\n",
       "    <tr>\n",
       "      <th>1</th>\n",
       "      <td>RAX</td>\n",
       "      <td>63.64</td>\n",
       "      <td>36.36</td>\n",
       "      <td>F</td>\n",
       "    </tr>\n",
       "    <tr>\n",
       "      <th>2</th>\n",
       "      <td>ESAR</td>\n",
       "      <td>44.44</td>\n",
       "      <td>55.56</td>\n",
       "      <td>M</td>\n",
       "    </tr>\n",
       "    <tr>\n",
       "      <th>3</th>\n",
       "      <td>DJANG</td>\n",
       "      <td>0.00</td>\n",
       "      <td>100.00</td>\n",
       "      <td>M</td>\n",
       "    </tr>\n",
       "    <tr>\n",
       "      <th>4</th>\n",
       "      <td>PARCAL</td>\n",
       "      <td>25.00</td>\n",
       "      <td>75.00</td>\n",
       "      <td>M</td>\n",
       "    </tr>\n",
       "    <tr>\n",
       "      <th>5</th>\n",
       "      <td>VALCARY</td>\n",
       "      <td>100.00</td>\n",
       "      <td>0.00</td>\n",
       "      <td>F</td>\n",
       "    </tr>\n",
       "    <tr>\n",
       "      <th>6</th>\n",
       "      <td>FRANCASC</td>\n",
       "      <td>63.64</td>\n",
       "      <td>36.36</td>\n",
       "      <td>F</td>\n",
       "    </tr>\n",
       "    <tr>\n",
       "      <th>7</th>\n",
       "      <td>CABAT</td>\n",
       "      <td>50.00</td>\n",
       "      <td>50.00</td>\n",
       "      <td>N</td>\n",
       "    </tr>\n",
       "    <tr>\n",
       "      <th>8</th>\n",
       "      <td>XANDAR</td>\n",
       "      <td>16.67</td>\n",
       "      <td>83.33</td>\n",
       "      <td>M</td>\n",
       "    </tr>\n",
       "    <tr>\n",
       "      <th>9</th>\n",
       "      <td>RACSAN</td>\n",
       "      <td>33.33</td>\n",
       "      <td>66.67</td>\n",
       "      <td>M</td>\n",
       "    </tr>\n",
       "  </tbody>\n",
       "</table>\n",
       "</div>"
      ],
      "text/plain": [
       "  babynysiis  perc_female  perc_male gender\n",
       "0        NaN        62.50      37.50      F\n",
       "1        RAX        63.64      36.36      F\n",
       "2       ESAR        44.44      55.56      M\n",
       "3      DJANG         0.00     100.00      M\n",
       "4     PARCAL        25.00      75.00      M\n",
       "5    VALCARY       100.00       0.00      F\n",
       "6   FRANCASC        63.64      36.36      F\n",
       "7      CABAT        50.00      50.00      N\n",
       "8     XANDAR        16.67      83.33      M\n",
       "9     RACSAN        33.33      66.67      M"
      ]
     },
     "execution_count": 7,
     "metadata": {},
     "output_type": "execute_result"
    }
   ],
   "source": [
    "# Reading in datasets/babynames_nysiis.csv, which is semicolon delimited.\n",
    "babies_df = pd.read_csv('datasets/babynames_nysiis.csv', delimiter=\";\")\n",
    "# babies_df.head()\n",
    "\n",
    "# Looping through babies_df to and filling up gender\n",
    "\n",
    "conditions = [\n",
    "    (babies_df['perc_female'] > babies_df['perc_male']),\n",
    "    (babies_df['perc_female'] < babies_df['perc_male'])]\n",
    "choices = ['F', 'M']\n",
    "babies_df['gender'] = np.select(conditions, choices, default='N')\n",
    "\n",
    "\n",
    "gender = babies_df['gender']\n",
    "\n",
    "# Printing out the first few rows of babies_df\n",
    "babies_df.head(10)"
   ]
  },
  {
   "cell_type": "markdown",
   "metadata": {},
   "source": [
    "In order to assign the gender of each author we will search for each authos phoentic name in the babies_df dataframe & extract the associated gender. TO do this we will create a function that locates the authors name in a list. If the elements is in a list it will return the index if the name is not in the list it willr return a -1. We will use this function when looping through the authors names and setting an index value to hold what the funciton returns. If the index is -1 we will populate 'Unknown' as the gender. Otherwise we will extract the gender in the indexed row.  "
   ]
  },
  {
   "cell_type": "code",
   "execution_count": 8,
   "metadata": {},
   "outputs": [
    {
     "data": {
      "text/plain": [
       "F          395\n",
       "M          191\n",
       "Unknown      9\n",
       "N            8\n",
       "Name: author_gender, dtype: int64"
      ]
     },
     "execution_count": 8,
     "metadata": {},
     "output_type": "execute_result"
    }
   ],
   "source": [
    "# This function returns the location of an element in a_list.\n",
    "# Where an item does not exist, it returns -1.\n",
    "def locate_in_list(a_list, element):\n",
    "    loc_of_name = a_list.index(element) if element in a_list else -1\n",
    "    return(loc_of_name)\n",
    "\n",
    "# Looping through author_df['nysiis_name'] and appending the gender of each\n",
    "# author to author_gender.\n",
    "author_gender = []\n",
    "for name in author_df['nysiis_name']:\n",
    "    index = locate_in_list(list(babies_df['babynysiis']), name)\n",
    "    if index == -1:\n",
    "        author_gender.append('Unknown')\n",
    "    else:\n",
    "        author_gender.append(babies_df.gender.loc[index])\n",
    "\n",
    "# Adding author_gender to the author_df\n",
    "author_df['author_gender'] = author_gender\n",
    "\n",
    "# Counting the author's genders\n",
    "author_df['author_gender'].value_counts()"
   ]
  },
  {
   "cell_type": "markdown",
   "metadata": {},
   "source": [
    "There are more female sounding named authors in the NYTimes best sellers list for childrens' picture books. Let take a look across the years to see if this trend is solid."
   ]
  },
  {
   "cell_type": "code",
   "execution_count": 9,
   "metadata": {},
   "outputs": [
    {
     "data": {
      "text/html": [
       "<div>\n",
       "<style scoped>\n",
       "    .dataframe tbody tr th:only-of-type {\n",
       "        vertical-align: middle;\n",
       "    }\n",
       "\n",
       "    .dataframe tbody tr th {\n",
       "        vertical-align: top;\n",
       "    }\n",
       "\n",
       "    .dataframe thead th {\n",
       "        text-align: right;\n",
       "    }\n",
       "</style>\n",
       "<table border=\"1\" class=\"dataframe\">\n",
       "  <thead>\n",
       "    <tr style=\"text-align: right;\">\n",
       "      <th></th>\n",
       "      <th>2008</th>\n",
       "      <th>2009</th>\n",
       "      <th>2010</th>\n",
       "      <th>2011</th>\n",
       "      <th>2012</th>\n",
       "      <th>2013</th>\n",
       "      <th>2014</th>\n",
       "      <th>2015</th>\n",
       "      <th>2016</th>\n",
       "      <th>2017</th>\n",
       "    </tr>\n",
       "  </thead>\n",
       "  <tbody>\n",
       "    <tr>\n",
       "      <th>males</th>\n",
       "      <td>8</td>\n",
       "      <td>19</td>\n",
       "      <td>27</td>\n",
       "      <td>21</td>\n",
       "      <td>21</td>\n",
       "      <td>11</td>\n",
       "      <td>21</td>\n",
       "      <td>18</td>\n",
       "      <td>25</td>\n",
       "      <td>20</td>\n",
       "    </tr>\n",
       "    <tr>\n",
       "      <th>females</th>\n",
       "      <td>15</td>\n",
       "      <td>45</td>\n",
       "      <td>48</td>\n",
       "      <td>51</td>\n",
       "      <td>46</td>\n",
       "      <td>51</td>\n",
       "      <td>34</td>\n",
       "      <td>30</td>\n",
       "      <td>32</td>\n",
       "      <td>43</td>\n",
       "    </tr>\n",
       "    <tr>\n",
       "      <th>unknowns</th>\n",
       "      <td>1</td>\n",
       "      <td>3</td>\n",
       "      <td>0</td>\n",
       "      <td>1</td>\n",
       "      <td>0</td>\n",
       "      <td>2</td>\n",
       "      <td>1</td>\n",
       "      <td>0</td>\n",
       "      <td>0</td>\n",
       "      <td>1</td>\n",
       "    </tr>\n",
       "  </tbody>\n",
       "</table>\n",
       "</div>"
      ],
      "text/plain": [
       "          2008  2009  2010  2011  2012  2013  2014  2015  2016  2017\n",
       "males        8    19    27    21    21    11    21    18    25    20\n",
       "females     15    45    48    51    46    51    34    30    32    43\n",
       "unknowns     1     3     0     1     0     2     1     0     0     1"
      ]
     },
     "execution_count": 9,
     "metadata": {},
     "output_type": "execute_result"
    }
   ],
   "source": [
    "# Creating a list of unique years, sorted in ascending order.\n",
    "years = list(reversed(author_df.Year.unique()))\n",
    "\n",
    "# Initializing lists\n",
    "males_by_yr = []\n",
    "females_by_yr = []\n",
    "unknown_by_yr = []\n",
    "\n",
    "\n",
    "# Looping through years to find the number of male, female and unknown authors per year\n",
    "# ...YOUR CODE FOR TASK 6...\n",
    "for year in years:\n",
    "    males_by_yr.append(len((author_df[\n",
    "    (author_df['Year']==year) & \n",
    "    (author_df['author_gender']=='M')])))\n",
    "    females_by_yr.append(len((author_df[\n",
    "    (author_df['Year']==year) & \n",
    "    (author_df['author_gender']=='F')])))\n",
    "    unknown_by_yr.append(len((author_df[\n",
    "    (author_df['Year']==year) & \n",
    "    (author_df['author_gender']=='Unknown')])))\n",
    "\n",
    "# Printing out yearly values to examine changes over time\n",
    "data = np.array([males_by_yr, females_by_yr, unknown_by_yr])\n",
    "headers=['males', 'females', 'unknowns']\n",
    "pd.DataFrame(data, headers, years)"
   ]
  },
  {
   "cell_type": "markdown",
   "metadata": {},
   "source": [
    "Even across years we can see that authors with female sounding names place on the NYTimes best selling list more frequently than male sounding author names. Lets take a moment to visualize the number of names that were not in the SSA dataset and are possibly from foreign authors."
   ]
  },
  {
   "cell_type": "code",
   "execution_count": 10,
   "metadata": {},
   "outputs": [
    {
     "data": {
      "text/plain": [
       "<BarContainer object of 10 artists>"
      ]
     },
     "execution_count": 10,
     "metadata": {},
     "output_type": "execute_result"
    },
    {
     "data": {
      "image/png": "[encoded data removed]",
      "text/plain": [
       "<Figure size 432x288 with 1 Axes>"
      ]
     },
     "metadata": {
      "needs_background": "light"
     },
     "output_type": "display_data"
    }
   ],
   "source": [
    "# Importing matplotlib\n",
    "import matplotlib.pyplot as plt\n",
    "\n",
    "# This makes plots appear in the notebook\n",
    "%matplotlib inline\n",
    "\n",
    "# Plotting the bar chart\n",
    "plt.bar(years, unknown_by_yr)\n",
    "\n",
    "# [OPTIONAL] - Setting a title, and axes labels\n",
    "# ...YOUR CODE FOR TASK 7..."
   ]
  },
  {
   "cell_type": "markdown",
   "metadata": {},
   "source": [
    "Finally lets conclude by visualizing the trend of female names to male names over the years. "
   ]
  },
  {
   "cell_type": "code",
   "execution_count": 11,
   "metadata": {},
   "outputs": [
    {
     "data": {
      "text/plain": [
       "<BarContainer object of 10 artists>"
      ]
     },
     "execution_count": 11,
     "metadata": {},
     "output_type": "execute_result"
    },
    {
     "data": {
      "image/png": "[encoded data removed]",
      "text/plain": [
       "<Figure size 432x288 with 1 Axes>"
      ]
     },
     "metadata": {
      "needs_background": "light"
     },
     "output_type": "display_data"
    }
   ],
   "source": [
    "# Creating a new list,  where 0.25 is added to each year\n",
    "years_shifted = [year + 0.25 for year in years]\n",
    "\n",
    "# Plotting males_by_yr by year\n",
    "plt.bar(years, males_by_yr)\n",
    "\n",
    "# Plotting females_by_yr by years_shifted\n",
    "plt.bar(years_shifted, females_by_yr)\n",
    "\n",
    "# [OPTIONAL] - Adding relevant Axes labels and Chart Title\n",
    "# ... YOUR CODE FOR TASK 8 ..."
   ]
  },
  {
   "cell_type": "markdown",
   "metadata": {},
   "source": []
  },
  {
   "cell_type": "code",
   "execution_count": null,
   "metadata": {},
   "outputs": [],
   "source": []
  },
  {
   "cell_type": "markdown",
   "metadata": {},
   "source": []
  }
 ],
 "metadata": {
  "kernelspec": {
   "display_name": "Python 3",
   "language": "python",
   "name": "python3"
  },
  "language_info": {
   "codemirror_mode": {
    "name": "ipython",
    "version": 3
   },
   "file_extension": ".py",
   "mimetype": "text/x-python",
   "name": "python",
   "nbconvert_exporter": "python",
   "pygments_lexer": "ipython3",
   "version": "3.7.3"
  }
 },
 "nbformat": 4,
 "nbformat_minor": 4
}
